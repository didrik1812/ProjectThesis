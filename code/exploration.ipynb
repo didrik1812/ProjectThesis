{
 "cells": [
  {
   "cell_type": "markdown",
   "metadata": {},
   "source": [
    "# Some exploration of methods"
   ]
  },
  {
   "cell_type": "code",
   "execution_count": 6,
   "metadata": {},
   "outputs": [],
   "source": [
    "# Load libraries and data\n",
    "import numpy as np\n",
    "import pandas as pd\n",
    "import matplotlib.pyplot as plt\n",
    "import seaborn as sns\n",
    "from sklearn.model_selection import train_test_split\n",
    "from sklearn.model_selection  import cross_validate\n",
    "from sklearn.metrics import mean_squared_error\n",
    "from sklearn.preprocessing import StandardScaler\n",
    "import xgboost as xgb\n",
    "from xgboost import XGBRegressor\n",
    "import pickle\n",
    "\n"
   ]
  },
  {
   "cell_type": "code",
   "execution_count": 7,
   "metadata": {},
   "outputs": [
    {
     "name": "stderr",
     "output_type": "stream",
     "text": [
      "C:\\Users\\didri\\AppData\\Local\\Temp\\ipykernel_728\\3650984776.py:2: DtypeWarning: Columns (0) have mixed types. Specify dtype option on import or set low_memory=False.\n",
      "  mass_residuals = pd.read_csv('../data/mass_residuals_data.csv')\n"
     ]
    }
   ],
   "source": [
    "# Prep data for XGBoost\n",
    "mass_residuals = pd.read_csv('../data/mass_residuals_data_full.csv')\n",
    "\n",
    "SNP_data = mass_residuals.iloc[:,7:]\n",
    "SNP_data.fillna(0)\n",
    "Y = mass_residuals.ID\n",
    "X_train_val, X_test, y_train_val, y_test = train_test_split(SNP_data, Y, test_size=0.2, random_state=42)\n",
    "X_train, X_val, y_train, y_val = train_test_split(X_train_val, y_train_val, test_size=0.2, random_state=42)"
   ]
  },
  {
   "cell_type": "code",
   "execution_count": 30,
   "metadata": {},
   "outputs": [
    {
     "name": "stdout",
     "output_type": "stream",
     "text": [
      "100%|██████████| 100/100 [3:10:40<00:00, 114.41s/trial, best loss: 1.084202264642221] \n",
      "Best Hyperparamters: {'colsample_bytree': 0.7000000000000001, 'eta': 0.014921452492714465, 'max_depth': 11, 'n_estimators': 31, 'subsample': 0.7000000000000001}\n"
     ]
    }
   ],
   "source": [
    "# hyperparameter tuning by baeysian optimization\n",
    "from hyperopt import hp, fmin, tpe, STATUS_OK, Trials\n",
    "\n",
    "space = {\n",
    "    \"max_depth\": hp.choice(\"max_depth\", range(1, 20)),\n",
    "    \"eta\": hp.loguniform(\"eta\", -5, -2),\n",
    "    \"subsample\": hp.quniform(\"subsample\", 0.5, 1, 0.05),\n",
    "    \"n_estimators\": hp.choice(\"n_estimators\", range(20, 205, 5)),\n",
    "    \"colsample_bytree\": hp.quniform(\"colsample_bytree\", 0.5, 1, 0.05),\n",
    "}\n",
    "\n",
    "def objective(params):\n",
    "    xgb_r = XGBRegressor(**params)\n",
    "    xgb_r.fit(X_train, y_train)\n",
    "    y_pred = xgb_r.predict(X_val)  \n",
    "    score = mean_squared_error(y_val, y_pred, squared=False)\n",
    "    return {\"loss\": score, \"status\": STATUS_OK}\n",
    "\n",
    "trials = Trials()  \n",
    "best = fmin(objective, space, algo=tpe.suggest, max_evals=100, trials=trials)\n",
    "print(\"Best Hyperparamters:\",best)"
   ]
  },
  {
   "cell_type": "code",
   "execution_count": 31,
   "metadata": {},
   "outputs": [
    {
     "name": "stdout",
     "output_type": "stream",
     "text": [
      "Final RMSE: 1.1949465525539724\n"
     ]
    }
   ],
   "source": [
    "final_xgb = XGBRegressor(**best)\n",
    "final_xgb.fit(X_train_val, y_train_val)\n",
    "y_pred = final_xgb.predict(X_test)\n",
    "score = mean_squared_error(y_test, y_pred, squared=False)\n",
    "print(\"Final RMSE:\",score)"
   ]
  },
  {
   "cell_type": "code",
   "execution_count": null,
   "metadata": {},
   "outputs": [],
   "source": [
    "pickle.dump(final_xgb, open(\"../models/xgb_bayesoptim_noselection_full.pkl\", \"wb\"))"
   ]
  },
  {
   "cell_type": "code",
   "execution_count": 8,
   "metadata": {},
   "outputs": [
    {
     "name": "stdout",
     "output_type": "stream",
     "text": [
      "Pearson correlation coefficient: 0.2414227366768957\n",
      "p-value: 1.6974773439872767e-06\n"
     ]
    }
   ],
   "source": [
    "# Plot feature importance\n",
    "from scipy.stats import pearsonr\n",
    "final_xgb = pickle.load(open(\"../models/xgb_bayesoptim_noselection_full.pkl\", \"rb\"))\n",
    "y_pred = final_xgb.predict(X_test)\n",
    "corr = pearsonr(y_test, y_pred)\n",
    "print(\"Pearson correlation coefficient:\",corr[0])\n",
    "print(\"p-value:\",corr[1])"
   ]
  }
 ],
 "metadata": {
  "kernelspec": {
   "display_name": "projectThesis",
   "language": "python",
   "name": "python3"
  },
  "language_info": {
   "codemirror_mode": {
    "name": "ipython",
    "version": 3
   },
   "file_extension": ".py",
   "mimetype": "text/x-python",
   "name": "python",
   "nbconvert_exporter": "python",
   "pygments_lexer": "ipython3",
   "version": "3.8.17"
  },
  "orig_nbformat": 4
 },
 "nbformat": 4,
 "nbformat_minor": 2
}
